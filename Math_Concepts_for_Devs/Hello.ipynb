{
 "cells": [
  {
   "cell_type": "markdown",
   "id": "36b0fb0c-7b0d-4ad1-8ef4-7d3840d428c1",
   "metadata": {},
   "source": [
    "# New Tittle\n",
    "## Ahead"
   ]
  },
  {
   "cell_type": "code",
   "execution_count": null,
   "id": "dc682fc5-84df-45de-9b07-28226a134f73",
   "metadata": {},
   "outputs": [],
   "source": []
  }
 ],
 "metadata": {
  "kernelspec": {
   "display_name": "Python 3 (ipykernel)",
   "language": "python",
   "name": "python3"
  },
  "language_info": {
   "codemirror_mode": {
    "name": "ipython",
    "version": 3
   },
   "file_extension": ".py",
   "mimetype": "text/x-python",
   "name": "python",
   "nbconvert_exporter": "python",
   "pygments_lexer": "ipython3",
   "version": "3.11.7"
  }
 },
 "nbformat": 4,
 "nbformat_minor": 5
}
