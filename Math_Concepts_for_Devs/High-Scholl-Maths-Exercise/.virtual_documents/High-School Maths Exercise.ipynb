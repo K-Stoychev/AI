import sympy
import math

import numpy as np
import matplotlib.pyplot as plt


























x = sympy.symbols("x")
a, b, c = sympy.symbols("a b c")


a * x ** 2 + b * x + c





sympy.solve(a * x ** 2 + b * x + c, x)





def solve_linear_equation(b, c):
        return [] if b == 0 else [-c / b]

#solve_linear_equation = lambda b, c: [] if b == 0 else [-c / b]


def solve_quadratic_equation(a, b, c):
    """
    Returns the real solutions of the quadratic equation ax^2 + bx + c = 0
    """
    D = b ** 2 - 4 * a * c
    denominator = 2 * a
    if a == 0:
        #raise ValueError("a should be non-zerov for valid quadratic equation")
        return solve_linear_equation(b, c)
    if D > 0:
        return [(-b - math.sqrt(D)) / denominator, (-b + math.sqrt(D)) / denominator]
    elif D == 0:
        return [-b  / denominator]
    else:
        return []
    


# Testing: Execute this cell. The outputs should match the expected outputs. Feel free to write more tests
print(solve_quadratic_equation(1, -1, -2)) # [-1.0, 2.0]
print(solve_quadratic_equation(1, -8, 16)) # [4.0]
print(solve_quadratic_equation(1, 1, 1)) # []








print((math.sqrt(5)) ** 2)
print(0.1 + 0.2)
print(0.1 + 0.2 == 0.3)
print(math.pow(2, 3))
math.log(8, 2)





a = 2
b = 3


x = 5
y = a * x + b
(x, y)


x = list(range(6))
for num in x:
    y = a * num + b
    print(num, y)


x = np.linspace(0, 100, 50)
y = a * x + b


plt.plot(x, y)
plt.show()


x = np.linspace(-20, 20, 15000)
y = a * x + b
plt.plot(x, y, c = "red")
ax = plt.gca()
ax.spines["bottom"].set_position("zero")
ax.spines["left"].set_position("zero")
ax.spines["top"].set_visible(False)
ax.spines["right"].set_visible(False)

#plt.xlabel("x")
#plt.ylabel("y")
plt.show()





# Copy and edit your code here











def plot_math_function(f, min_x, max_x, num_points):
    x = np.linspace(min_x, max_x, num_points)
    y = f(x)

    plt.plot(x, y)

    ax = plt.gca()
    ax.spines["bottom"].set_position("zero")
    ax.spines["left"].set_position("zero")
    ax.spines["top"].set_visible(False)
    ax.spines["right"].set_visible(False)

    plt.gca().set_aspect("equal")

    plt.show()


plot_math_function(lambda x: 2 * x + 3, -3, 5, 1000)
plot_math_function(lambda x: -x + 8, -1, 10, 1000)
plot_math_function(lambda x: x**2 - x - 2, -3, 4, 1000)
plot_math_function(lambda x: np.sin(x), -np.pi, np.pi, 1000)
plot_math_function(lambda x: np.sin(x) / x, -4 * np.pi, 4 * np.pi, 1000)





def plot_math_functions(functions, min_x, max_x, num_points):
    vectorized_fs = [np.vectorize(f) for f in functions]
    for f in vectorized_fs:
        x = np.linspace(min_x, max_x, num_points)
        y = f(x)

        plt.plot(x, y)

    ax = plt.gca()
    ax.spines["bottom"].set_position("zero")
    ax.spines["left"].set_position("zero")
    ax.spines["top"].set_visible(False)
    ax.spines["right"].set_visible(False)

    plt.gca().set_aspect("equal")

    plt.show()


plot_math_functions([lambda x: 2 * x + 3, lambda x: 0], -3, 5, 1000)
plot_math_functions([lambda x: 3 * x**2 - 2 * x + 5, lambda x: 3 * x + 7], -2, 3, 1000)





plot_math_functions([lambda x: (-4 * x + 7) / 3, lambda x: (-3 * x + 8) / 5, lambda x: (-x - 1) / -2], -1, 4, 1000)








# Write your code here



