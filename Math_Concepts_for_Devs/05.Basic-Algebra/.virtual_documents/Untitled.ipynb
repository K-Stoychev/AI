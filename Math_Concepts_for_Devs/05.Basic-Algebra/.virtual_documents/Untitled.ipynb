import numpy as np
from numpy.polynomial import Polynomial


Polynomial([1, 2, 3])



